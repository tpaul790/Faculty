{
 "metadata": {
  "kernelspec": {
   "name": "python3",
   "display_name": "Python 3 (ipykernel)",
   "language": "python"
  },
  "language_info": {
   "codemirror_mode": {
    "name": "python",
    "version": 3
   },
   "file_extension": ".py",
   "mimetype": "text/x-python",
   "name": "python",
   "nbconvert_exporter": "python",
   "pygments_lexer": "ipython3",
   "version": "3.8"
  }
 },
 "nbformat_minor": 4,
 "nbformat": 4,
 "cells": [
  {
   "cell_type": "code",
   "source": "from random import sample\nfrom math import factorial\nfrom itertools import permutations\n\n#2)\n#a)\nw = \"word\"\np = list(permutations(w))\nprint(p)\n",
   "metadata": {
    "trusted": true,
    "ExecuteTime": {
     "end_time": "2025-01-09T17:38:43.477659Z",
     "start_time": "2025-01-09T17:38:43.474694Z"
    }
   },
   "outputs": [
    {
     "name": "stdout",
     "output_type": "stream",
     "text": [
      "[('w', 'o', 'r', 'd'), ('w', 'o', 'd', 'r'), ('w', 'r', 'o', 'd'), ('w', 'r', 'd', 'o'), ('w', 'd', 'o', 'r'), ('w', 'd', 'r', 'o'), ('o', 'w', 'r', 'd'), ('o', 'w', 'd', 'r'), ('o', 'r', 'w', 'd'), ('o', 'r', 'd', 'w'), ('o', 'd', 'w', 'r'), ('o', 'd', 'r', 'w'), ('r', 'w', 'o', 'd'), ('r', 'w', 'd', 'o'), ('r', 'o', 'w', 'd'), ('r', 'o', 'd', 'w'), ('r', 'd', 'w', 'o'), ('r', 'd', 'o', 'w'), ('d', 'w', 'o', 'r'), ('d', 'w', 'r', 'o'), ('d', 'o', 'w', 'r'), ('d', 'o', 'r', 'w'), ('d', 'r', 'w', 'o'), ('d', 'r', 'o', 'w')]\n"
     ]
    }
   ],
   "execution_count": 1
  },
  {
   "cell_type": "code",
   "source": "#b)\nprint(\"Numarul de permutari este \",factorial(len(w)))",
   "metadata": {
    "trusted": true
   },
   "outputs": [
    {
     "name": "stdout",
     "text": "Numarul de permutari este  24\n",
     "output_type": "stream"
    }
   ],
   "execution_count": 18
  },
  {
   "cell_type": "code",
   "source": "#c)\nimport random\nrandom.sample(w,len(w))",
   "metadata": {
    "trusted": true
   },
   "outputs": [
    {
     "execution_count": 25,
     "output_type": "execute_result",
     "data": {
      "text/plain": "['w', 'r', 'd', 'o']"
     },
     "metadata": {}
    }
   ],
   "execution_count": 25
  },
  {
   "cell_type": "code",
   "source": "from random import sample\nfrom math import perm, comb\nfrom itertools import permutations, combinations\n\n3)\ndef aranjamente(w:str, k:int, numar_total=False, aleator=False):\n    if numar_total == True:\n        return perm(len(w),k)\n    if aleator == True:\n        return sample(w,k)\n    return list(permutations(w,k))\n#aranjamente('word',2)\naranjamente('word',2,numar_total=True)\n#aranjamente('word',2,aleator=True)",
   "metadata": {
    "trusted": true
   },
   "outputs": [
    {
     "execution_count": 39,
     "output_type": "execute_result",
     "data": {
      "text/plain": "12"
     },
     "metadata": {}
    }
   ],
   "execution_count": 39
  },
  {
   "cell_type": "code",
   "source": "def combinari(w:str, k:int, numar_total=False, aleator = False):\n    if numar_total:\n        return comb(len(w),k)\n    if aleator:\n        poz1 = sample(range(len(w)//2),1)[0]\n        poz2 = sample(range(len(w)//2+1,len(w)),1)[0]\n        return [w[poz1],w[poz2]]\n    return list(combinations(w,k))\n#combinari('word',2,numar_total=True)\n#combinari('word',2,aleator=True)\ncombinari('word',2)",
   "metadata": {
    "trusted": true
   },
   "outputs": [
    {
     "execution_count": 64,
     "output_type": "execute_result",
     "data": {
      "text/plain": "[('w', 'o'), ('w', 'r'), ('w', 'd'), ('o', 'r'), ('o', 'd'), ('r', 'd')]"
     },
     "metadata": {}
    }
   ],
   "execution_count": 64
  },
  {
   "cell_type": "code",
   "source": "#4)\nfrom itertools import combinations_with_replacement\nlist(combinations_with_replacement('ABCDE',4))",
   "metadata": {
    "trusted": true
   },
   "outputs": [
    {
     "execution_count": 65,
     "output_type": "execute_result",
     "data": {
      "text/plain": "[('A', 'A', 'A', 'A'),\n ('A', 'A', 'A', 'B'),\n ('A', 'A', 'A', 'C'),\n ('A', 'A', 'A', 'D'),\n ('A', 'A', 'A', 'E'),\n ('A', 'A', 'B', 'B'),\n ('A', 'A', 'B', 'C'),\n ('A', 'A', 'B', 'D'),\n ('A', 'A', 'B', 'E'),\n ('A', 'A', 'C', 'C'),\n ('A', 'A', 'C', 'D'),\n ('A', 'A', 'C', 'E'),\n ('A', 'A', 'D', 'D'),\n ('A', 'A', 'D', 'E'),\n ('A', 'A', 'E', 'E'),\n ('A', 'B', 'B', 'B'),\n ('A', 'B', 'B', 'C'),\n ('A', 'B', 'B', 'D'),\n ('A', 'B', 'B', 'E'),\n ('A', 'B', 'C', 'C'),\n ('A', 'B', 'C', 'D'),\n ('A', 'B', 'C', 'E'),\n ('A', 'B', 'D', 'D'),\n ('A', 'B', 'D', 'E'),\n ('A', 'B', 'E', 'E'),\n ('A', 'C', 'C', 'C'),\n ('A', 'C', 'C', 'D'),\n ('A', 'C', 'C', 'E'),\n ('A', 'C', 'D', 'D'),\n ('A', 'C', 'D', 'E'),\n ('A', 'C', 'E', 'E'),\n ('A', 'D', 'D', 'D'),\n ('A', 'D', 'D', 'E'),\n ('A', 'D', 'E', 'E'),\n ('A', 'E', 'E', 'E'),\n ('B', 'B', 'B', 'B'),\n ('B', 'B', 'B', 'C'),\n ('B', 'B', 'B', 'D'),\n ('B', 'B', 'B', 'E'),\n ('B', 'B', 'C', 'C'),\n ('B', 'B', 'C', 'D'),\n ('B', 'B', 'C', 'E'),\n ('B', 'B', 'D', 'D'),\n ('B', 'B', 'D', 'E'),\n ('B', 'B', 'E', 'E'),\n ('B', 'C', 'C', 'C'),\n ('B', 'C', 'C', 'D'),\n ('B', 'C', 'C', 'E'),\n ('B', 'C', 'D', 'D'),\n ('B', 'C', 'D', 'E'),\n ('B', 'C', 'E', 'E'),\n ('B', 'D', 'D', 'D'),\n ('B', 'D', 'D', 'E'),\n ('B', 'D', 'E', 'E'),\n ('B', 'E', 'E', 'E'),\n ('C', 'C', 'C', 'C'),\n ('C', 'C', 'C', 'D'),\n ('C', 'C', 'C', 'E'),\n ('C', 'C', 'D', 'D'),\n ('C', 'C', 'D', 'E'),\n ('C', 'C', 'E', 'E'),\n ('C', 'D', 'D', 'D'),\n ('C', 'D', 'D', 'E'),\n ('C', 'D', 'E', 'E'),\n ('C', 'E', 'E', 'E'),\n ('D', 'D', 'D', 'D'),\n ('D', 'D', 'D', 'E'),\n ('D', 'D', 'E', 'E'),\n ('D', 'E', 'E', 'E'),\n ('E', 'E', 'E', 'E')]"
     },
     "metadata": {}
    }
   ],
   "execution_count": 65
  },
  {
   "cell_type": "code",
   "source": "#5)\n",
   "metadata": {
    "trusted": true
   },
   "outputs": [],
   "execution_count": 68
  },
  {
   "cell_type": "code",
   "source": "",
   "metadata": {
    "trusted": true
   },
   "outputs": [],
   "execution_count": null
  },
  {
   "cell_type": "code",
   "source": "",
   "metadata": {
    "trusted": true
   },
   "outputs": [],
   "execution_count": null
  }
 ]
}
